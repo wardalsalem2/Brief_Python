{
 "cells": [
  {
   "cell_type": "code",
   "execution_count": null,
   "id": "a6100621",
   "metadata": {},
   "outputs": [],
   "source": [
    "# تثبيت المكتبات المطلوبة\n",
    "%pip install pandas numpy matplotlib seaborn scikit-learn\n",
    "\n",
    "# هذه الأدوات نحتاجها لتحليل البيانات، رسم الرسوم البيانية، وبناء النموذج\n",
    "import pandas as pd\n",
    "import numpy as np\n",
    "import matplotlib.pyplot as plt\n",
    "import seaborn as sns\n",
    "\n",
    "\n",
    "# أدوات التعلم الآلي\n",
    "from sklearn.linear_model import LinearRegression\n",
    "from sklearn.model_selection import train_test_split\n",
    "from sklearn.preprocessing import OneHotEncoder\n",
    "from sklearn.metrics import mean_absolute_error, mean_squared_error, r2_score"
   ]
  },
  {
   "cell_type": "code",
   "execution_count": null,
   "id": "8e808ea6",
   "metadata": {},
   "outputs": [],
   "source": [
    "import pandas as pd\n",
    "\n",
    "# قراءة الملف بعد الرفع\n",
    "df = pd.read_csv('StudentsPerformance.csv')\n",
    "\n",
    "# عرض أول 5 صفوف\n",
    "df.head()"
   ]
  },
  {
   "cell_type": "code",
   "execution_count": null,
   "id": "a76a298e",
   "metadata": {},
   "outputs": [],
   "source": [
    "# عرض معلومات عامة عن البيانات\n",
    "df.info()"
   ]
  },
  {
   "cell_type": "code",
   "execution_count": null,
   "id": "dfed78a9",
   "metadata": {},
   "outputs": [],
   "source": [
    "# إحصائيات وصفية للبيانات\n",
    "df.describe()\n",
    "\n"
   ]
  },
  {
   "cell_type": "code",
   "execution_count": null,
   "id": "4eaa1bbb",
   "metadata": {},
   "outputs": [],
   "source": [
    "# التحقق من القيم المفقودة\n",
    "df.isnull().sum()\n"
   ]
  },
  {
   "cell_type": "code",
   "execution_count": null,
   "id": "7c9b5820",
   "metadata": {},
   "outputs": [],
   "source": [
    "import seaborn as sns\n",
    "import matplotlib.pyplot as plt\n",
    "\n",
    "# رسم توزيع درجات الرياضيات\n",
    "sns.histplot(df['math score'], kde=True)\n",
    "plt.title('توزيع درجات الرياضيات')\n",
    "plt.xlabel('الدرجات')\n",
    "plt.ylabel('التكرار')\n",
    "plt.show()"
   ]
  },
  {
   "cell_type": "code",
   "execution_count": null,
   "id": "508466fc",
   "metadata": {},
   "outputs": [],
   "source": [
    "# تحويل المتغيرات الفئوية إلى قيم رقمية باستخدام OneHotEncoder\n",
    "df_encoded = pd.get_dummies(df, drop_first=True)\n",
    "\n",
    "# عرض أول 5 صفوف للبيانات بعد التشفير\n",
    "df_encoded.head()\n"
   ]
  },
  {
   "cell_type": "code",
   "execution_count": null,
   "id": "fb6f26b7",
   "metadata": {},
   "outputs": [],
   "source": [
    "# تحديد الخصائص (X) والهدف (y)\n",
    "X = df_encoded.drop('math score', axis=1)  # كل الأعمدة ما عدا درجة الرياضيات\n",
    "y = df_encoded['math score']  # درجة الرياضيات هي الهدف\n",
    "\n",
    "# تقسيم البيانات إلى بيانات تدريب واختبار\n",
    "X_train, X_test, y_train, y_test = train_test_split(X, y, test_size=0.2, random_state=42)\n",
    "\n",
    "# عرض حجم البيانات بعد التقسيم\n",
    "print(f\"بيانات التدريب: {X_train.shape}\")\n",
    "print(f\"بيانات الاختبار: {X_test.shape}\")\n"
   ]
  },
  {
   "cell_type": "code",
   "execution_count": null,
   "id": "7698a53c",
   "metadata": {},
   "outputs": [],
   "source": [
    "# إنشاء نموذج الانحدار الخطي\n",
    "model = LinearRegression()\n",
    "# إنشاء نموذج الانحدار الخطي\n",
    "model = LinearRegression()\n",
    "\n",
    "# تدريب النموذج باستخدام بيانات التدريب\n",
    "model.fit(X_train, y_train)\n",
    "\n",
    "# عرض معلمات النموذج بعد التدريب\n",
    "print(f\"معاملات النموذج: {model.coef_}\")\n",
    "print(f\"التقاطع (Intercept): {model.intercept_}\")\n"
   ]
  },
  {
   "cell_type": "code",
   "execution_count": null,
   "id": "8f6c658c",
   "metadata": {},
   "outputs": [],
   "source": [
    "# التنبؤ بالدرجات باستخدام بيانات الاختبار\n",
    "y_pred = model.predict(X_test)\n",
    "\n",
    "# حساب MAE, MSE, R²\n",
    "mae = mean_absolute_error(y_test, y_pred)\n",
    "mse = mean_squared_error(y_test, y_pred)\n",
    "r2 = r2_score(y_test, y_pred)\n",
    "\n",
    "# عرض التقييمات\n",
    "print(f\"Mean Absolute Error (MAE): {mae}\")\n",
    "print(f\"Mean Squared Error (MSE): {mse}\")\n",
    "print(f\"R² Score: {r2}\")\n"
   ]
  },
  {
   "cell_type": "code",
   "execution_count": null,
   "id": "b4a315a4",
   "metadata": {},
   "outputs": [],
   "source": [
    "# عرض أول 5 تنبؤات مع القيم الفعلية\n",
    "results = pd.DataFrame({'القيم الفعلية': y_test, 'التنبؤات': y_pred})\n",
    "print(results.head())\n"
   ]
  },
  {
   "cell_type": "code",
   "execution_count": null,
   "id": "3e3df920",
   "metadata": {},
   "outputs": [],
   "source": [
    "# رسم التنبؤات مقابل القيم الفعلية\n",
    "plt.scatter(y_test, y_pred)\n",
    "plt.plot([y_test.min(), y_test.max()], [y_test.min(), y_test.max()], color='red', lw=2)\n",
    "plt.xlabel('القيم الفعلية')\n",
    "plt.ylabel('التنبؤات')\n",
    "plt.title('التنبؤات مقابل القيم الفعلية')\n",
    "plt.show()\n"
   ]
  },
  {
   "cell_type": "code",
   "execution_count": null,
   "id": "43581970",
   "metadata": {},
   "outputs": [],
   "source": [
    "# التنبؤ بالدرجات باستخدام بيانات الاختبار\n",
    "y_pred = model.predict(X_test)\n",
    "\n",
    "# حساب MAE, MSE, R²\n",
    "mae = mean_absolute_error(y_test, y_pred)\n",
    "mse = mean_squared_error(y_test, y_pred)\n",
    "r2 = r2_score(y_test, y_pred)\n",
    "\n",
    "# عرض التقييمات\n",
    "print(f\"Mean Absolute Error (MAE): {mae}\")\n",
    "print(f\"Mean Squared Error (MSE): {mse}\")\n",
    "print(f\"R² Score: {r2}\")\n"
   ]
  },
  {
   "cell_type": "code",
   "execution_count": null,
   "id": "633b302b",
   "metadata": {},
   "outputs": [],
   "source": [
    "# التنبؤ بالدرجات باستخدام بيانات الاختبار\n",
    "y_pred = model.predict(X_test)\n"
   ]
  }
 ],
 "metadata": {
  "language_info": {
   "name": "python"
  }
 },
 "nbformat": 4,
 "nbformat_minor": 5
}
